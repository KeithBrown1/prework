{
 "cells": [
  {
   "cell_type": "markdown",
   "metadata": {},
   "source": [
    "# Kaggle: The \"Titanic\" Challenge"
   ]
  },
  {
   "cell_type": "markdown",
   "metadata": {},
   "source": [
    "## Loading training data"
   ]
  },
  {
   "cell_type": "markdown",
   "metadata": {},
   "source": [
    "Loading packages"
   ]
  },
  {
   "cell_type": "code",
   "execution_count": 1,
   "metadata": {
    "collapsed": false
   },
   "outputs": [],
   "source": [
    "import csv as csv \n",
    "import numpy as np\n",
    "import string"
   ]
  },
  {
   "cell_type": "markdown",
   "metadata": {},
   "source": [
    "Loading in the data"
   ]
  },
  {
   "cell_type": "code",
   "execution_count": 2,
   "metadata": {
    "collapsed": false
   },
   "outputs": [
    {
     "name": "stdout",
     "output_type": "stream",
     "text": [
      "['PassengerId', 'Survived', 'Pclass', 'Name', 'Sex', 'Age', 'SibSp', 'Parch', 'Ticket', 'Fare', 'Cabin', 'Embarked']\n"
     ]
    }
   ],
   "source": [
    "train_file = open(\"C:/Users/Keith/Documents/Kaggle/Titanic/train.csv\", 'rb')\n",
    "train_content = csv.reader(train_file) \n",
    "header = train_content.next()\n",
    "train = []                          \n",
    "for row in train_content:      \n",
    "    train.append(row)             \n",
    "train = np.array(train)          \n",
    "train_file.close() \n",
    "print(header)"
   ]
  },
  {
   "cell_type": "markdown",
   "metadata": {},
   "source": [
    "## Background stats"
   ]
  },
  {
   "cell_type": "code",
   "execution_count": 3,
   "metadata": {
    "collapsed": false
   },
   "outputs": [
    {
     "name": "stdout",
     "output_type": "stream",
     "text": [
      "Proportion who survived is 0.383838383838\n"
     ]
    }
   ],
   "source": [
    "number_passengers = np.size(train[0::,1].astype(np.float))\n",
    "number_survived = np.sum(train[0::,1].astype(np.float))\n",
    "proportion_survivors = number_survived / number_passengers\n",
    "print('Proportion who survived is %s' % proportion_survivors)"
   ]
  },
  {
   "cell_type": "markdown",
   "metadata": {},
   "source": [
    "Assuming everyone died would give a low score on Kaggle unless the test data was biased and only continaed those that died. Not going to test this one."
   ]
  },
  {
   "cell_type": "code",
   "execution_count": 4,
   "metadata": {
    "collapsed": false
   },
   "outputs": [
    {
     "name": "stdout",
     "output_type": "stream",
     "text": [
      "Proportion of women who survived is 0.742038216561\n",
      "Proportion of men who survived is 0.188908145581\n"
     ]
    }
   ],
   "source": [
    "women_only_stats = train[0::,4] == \"female\" \n",
    "men_only_stats = train[0::,4] != \"female\"\n",
    "\n",
    "#converting to numbers\n",
    "women_onboard = train[women_only_stats,1].astype(np.float)     \n",
    "men_onboard = train[men_only_stats,1].astype(np.float)\n",
    "\n",
    "proportion_women_survived = \\\n",
    "                       np.sum(women_onboard) / np.size(women_onboard)  \n",
    "proportion_men_survived = \\\n",
    "                       np.sum(men_onboard) / np.size(men_onboard) \n",
    "\n",
    "# and then print it out\n",
    "print('Proportion of women who survived is %s' % proportion_women_survived)\n",
    "print('Proportion of men who survived is %s' % proportion_men_survived)"
   ]
  },
  {
   "cell_type": "markdown",
   "metadata": {},
   "source": [
    "Model of all women survived and no men should do better, but likely to be fairly blunt. Trying to re-code the next step in the \"gentle\" tutorial first. \n",
    "\n",
    "Next step is to haave a gender-class model..."
   ]
  },
  {
   "cell_type": "code",
   "execution_count": 5,
   "metadata": {
    "collapsed": false
   },
   "outputs": [
    {
     "name": "stdout",
     "output_type": "stream",
     "text": [
      "[[[ 0.          0.          0.83333333  0.97727273]\n",
      "  [ 0.          0.91428571  0.9         1.        ]\n",
      "  [ 0.59375     0.58139535  0.33333333  0.125     ]]\n",
      "\n",
      " [[ 0.          0.          0.4         0.38372093]\n",
      "  [ 0.          0.15873016  0.16        0.21428571]\n",
      "  [ 0.11153846  0.23684211  0.125       0.24      ]]]\n"
     ]
    },
    {
     "name": "stderr",
     "output_type": "stream",
     "text": [
      "C:\\Users\\Keith\\Anaconda2\\lib\\site-packages\\numpy\\core\\_methods.py:59: RuntimeWarning: Mean of empty slice.\n",
      "  warnings.warn(\"Mean of empty slice.\", RuntimeWarning)\n",
      "C:\\Users\\Keith\\Anaconda2\\lib\\site-packages\\numpy\\core\\_methods.py:70: RuntimeWarning: invalid value encountered in double_scalars\n",
      "  ret = ret.dtype.type(ret / rcount)\n"
     ]
    }
   ],
   "source": [
    "#Setting an upper limit on fares to split them 0-10, 10-20, 20-30, 30+ \n",
    "fare_ceiling = 40\n",
    "train[ train[0::,9].astype(np.float) >= fare_ceiling, 9 ] = fare_ceiling - 1.0\n",
    "fare_bracket_size = 10\n",
    "number_of_price_brackets = fare_ceiling / fare_bracket_size\n",
    "number_of_classes = len(np.unique(train[0::,2]))   \n",
    "\n",
    "#Table of zeros, female row 0, male row 1\n",
    "survival_table = np.zeros([2,number_of_classes,number_of_price_brackets],float)\n",
    "\n",
    "#Filling in the tables\n",
    "for i in xrange(number_of_classes):\n",
    "    for j in xrange(number_of_price_brackets):\n",
    "\n",
    "        women_only_stats = train[ (train[0::,4] == \"female\") \\\n",
    "                                 & (train[0::,2].astype(np.float) == i+1) \\\n",
    "                                 & (train[0:,9].astype(np.float) >= j*fare_bracket_size) \\\n",
    "                                 & (train[0:,9].astype(np.float) < (j+1)*fare_bracket_size), 1]\n",
    "\n",
    "        men_only_stats = train[ (train[0::,4] != \"female\") \\\n",
    "                                 & (train[0::,2].astype(np.float) == i+1) \\\n",
    "                                 & (train[0:,9].astype(np.float) >= j*fare_bracket_size) \\\n",
    "                                 & (train[0:,9].astype(np.float) < (j+1)*fare_bracket_size), 1]\n",
    "        \n",
    "        survival_table[0,i,j] = np.mean(women_only_stats.astype(np.float))  # Female stats\n",
    "        survival_table[1,i,j] = np.mean(men_only_stats.astype(np.float))    # Male stats\n",
    "\n",
    "#removing errors from no data by replacing erros with zero\n",
    "survival_table[ survival_table != survival_table ] = 0.\n",
    "\n",
    "print(survival_table)"
   ]
  },
  {
   "cell_type": "markdown",
   "metadata": {},
   "source": [
    "Looking by sex, fare band and class refines the all women survive and all women die. For some reason it looks like unfortunately some women in third class who paid a lot for their tickets did not have good odds of survival. The men didn't have good odds."
   ]
  },
  {
   "cell_type": "code",
   "execution_count": 6,
   "metadata": {
    "collapsed": false
   },
   "outputs": [
    {
     "name": "stdout",
     "output_type": "stream",
     "text": [
      "[[[ 1.  1.  1.  1.]\n",
      "  [ 1.  1.  1.  1.]\n",
      "  [ 1.  1.  0.  0.]]\n",
      "\n",
      " [[ 0.  0.  0.  0.]\n",
      "  [ 0.  0.  0.  0.]\n",
      "  [ 0.  0.  0.  0.]]]\n"
     ]
    }
   ],
   "source": [
    "#If above 0.5 chance of survival, predict survive\n",
    "survival_table[ survival_table < 0.5 ] = 0\n",
    "survival_table[ survival_table >= 0.5 ] = 1\n",
    "\n",
    "#manually over-riding women in higher classes with lower fares - as looks class driven and no data\n",
    "survival_table[0,0,0] = 1.\n",
    "survival_table[0,1,0] = 1.\n",
    "survival_table[0,0,1] = 1.\n",
    "\n",
    "print(survival_table)\n"
   ]
  },
  {
   "cell_type": "markdown",
   "metadata": {},
   "source": [
    "## Test file"
   ]
  },
  {
   "cell_type": "code",
   "execution_count": 7,
   "metadata": {
    "collapsed": false
   },
   "outputs": [
    {
     "name": "stdout",
     "output_type": "stream",
     "text": [
      "['PassengerId', 'Pclass', 'Name', 'Sex', 'Age', 'SibSp', 'Parch', 'Ticket', 'Fare', 'Cabin', 'Embarked']\n"
     ]
    }
   ],
   "source": [
    "#Opening test file\n",
    "test_file = open(\"C:/Users/Keith/Documents/Kaggle/Titanic/test.csv\", 'rb')\n",
    "test_content = csv.reader(test_file)\n",
    "header2 = test_content.next()\n",
    "print(header2)"
   ]
  },
  {
   "cell_type": "code",
   "execution_count": 8,
   "metadata": {
    "collapsed": false
   },
   "outputs": [
    {
     "name": "stderr",
     "output_type": "stream",
     "text": [
      "C:\\Users\\Keith\\Anaconda2\\lib\\site-packages\\ipykernel\\__main__.py:23: DeprecationWarning: using a non-integer number instead of an integer will result in an error in the future\n",
      "C:\\Users\\Keith\\Anaconda2\\lib\\site-packages\\ipykernel\\__main__.py:21: DeprecationWarning: using a non-integer number instead of an integer will result in an error in the future\n"
     ]
    }
   ],
   "source": [
    "#Creating prediciton file\n",
    "prediction_file = open(\"C:/Users/Keith/Documents/Kaggle/Titanic/gender_class.csv\", \"wb\")\n",
    "prediction_file_object = csv.writer(prediction_file)\n",
    "prediction_file_object.writerow([\"PassengerId\", \"Survived\"])\n",
    "\n",
    "#Running and writing prediction\n",
    "for row in test_content:\n",
    "    for j in xrange(number_of_price_brackets):\n",
    "        try:\n",
    "            row[8] = float(row[8])\n",
    "        except:  #if no fare then use class to estimate fare\n",
    "            bin_fare = 3 - float(row[1])\n",
    "            break\n",
    "        if row[8] > fare_ceiling:\n",
    "            bin_fare = number_of_price_brackets - 1\n",
    "            break\n",
    "        if row[8] >= j*fare_bracket_size and row[8] < (j+1)*fare_bracket_size:\n",
    "            bin_fare = j\n",
    "            break\n",
    "    if row[3] == 'female':\n",
    "        prediction_file_object.writerow([row[0], \"%d\" % int(survival_table[ 0, float(row[1]) - 1, bin_fare ])])\n",
    "    else:\n",
    "        prediction_file_object.writerow([row[0], \"%d\" % int(survival_table[ 1, float(row[1]) - 1, bin_fare])])\n",
    "\n",
    "prediction_file.close()\n",
    "test_file.close()"
   ]
  },
  {
   "cell_type": "code",
   "execution_count": null,
   "metadata": {
    "collapsed": true
   },
   "outputs": [],
   "source": []
  }
 ],
 "metadata": {
  "kernelspec": {
   "display_name": "Python 2",
   "language": "python",
   "name": "python2"
  },
  "language_info": {
   "codemirror_mode": {
    "name": "ipython",
    "version": 2
   },
   "file_extension": ".py",
   "mimetype": "text/x-python",
   "name": "python",
   "nbconvert_exporter": "python",
   "pygments_lexer": "ipython2",
   "version": "2.7.11"
  }
 },
 "nbformat": 4,
 "nbformat_minor": 0
}
