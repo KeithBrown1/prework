{
 "cells": [
  {
   "cell_type": "markdown",
   "metadata": {},
   "source": [
    "# Kaggle: The \"Titanic\" Challenge"
   ]
  },
  {
   "cell_type": "markdown",
   "metadata": {},
   "source": [
    "## Loading training data"
   ]
  },
  {
   "cell_type": "markdown",
   "metadata": {},
   "source": [
    "Loading packages"
   ]
  },
  {
   "cell_type": "code",
   "execution_count": 1,
   "metadata": {
    "collapsed": true
   },
   "outputs": [],
   "source": [
    "import numpy as np\n",
    "import pandas as pd\n",
    "import pylab as P\n",
    "import string\n",
    "import math as maths\n",
    "import csv\n",
    "from sklearn.ensemble import RandomForestClassifier"
   ]
  },
  {
   "cell_type": "markdown",
   "metadata": {},
   "source": [
    "Loading in the data"
   ]
  },
  {
   "cell_type": "code",
   "execution_count": 2,
   "metadata": {
    "collapsed": false,
    "scrolled": true
   },
   "outputs": [
    {
     "name": "stdout",
     "output_type": "stream",
     "text": [
      "<class 'pandas.core.frame.DataFrame'>\n",
      "Int64Index: 891 entries, 0 to 890\n",
      "Data columns (total 12 columns):\n",
      "PassengerId    891 non-null int64\n",
      "Survived       891 non-null int64\n",
      "Pclass         891 non-null int64\n",
      "Name           891 non-null object\n",
      "Sex            891 non-null object\n",
      "Age            714 non-null float64\n",
      "SibSp          891 non-null int64\n",
      "Parch          891 non-null int64\n",
      "Ticket         891 non-null object\n",
      "Fare           891 non-null float64\n",
      "Cabin          204 non-null object\n",
      "Embarked       889 non-null object\n",
      "dtypes: float64(2), int64(5), object(5)\n",
      "memory usage: 90.5+ KB\n"
     ]
    }
   ],
   "source": [
    "train = pd.read_csv(\"C:/Users/Keith/Documents/Kaggle/Titanic/train.csv\", header=0)\n",
    "train.info()"
   ]
  },
  {
   "cell_type": "markdown",
   "metadata": {},
   "source": [
    "## Data cleaning"
   ]
  },
  {
   "cell_type": "code",
   "execution_count": 3,
   "metadata": {
    "collapsed": false
   },
   "outputs": [],
   "source": [
    "train['Gender'] = train['Sex'].map( {'female': 0, 'male': 1} ).astype(int)\n",
    "\n",
    "train['Port'] = train['Embarked']\n",
    "train['Port'] = train['Port'].fillna('Unknown')\n",
    "\n",
    "#Calculating values to estimate unknown ages\n",
    "train['Family_Size'] = train['SibSp']+train['Parch']+1\n",
    "train['Alone'] = train['Family_Size'].map(lambda x: 0 if x>1 else 1)\n",
    "\n",
    "#Estimating medians of ages by gender, class and whether or not they are travelling alone\n",
    "median_ages = np.zeros((2,2,3))\n",
    "\n",
    "for i in range(0, 2):\n",
    "    for j in range(0, 2):\n",
    "        for k in range(0, 3):\n",
    "            median_ages[i,j,k] = train[(train['Gender'] == i) & \\\n",
    "                                    (train['Alone'] == j) & \\\n",
    "                                    (train['Pclass'] == k+1)]['Age'].dropna().median()\n",
    "\n",
    "#Creating a filled in column of actual and estimated ages\n",
    "train['AgeFill'] = train['Age']\n",
    "\n",
    "for i in range(0, 2):\n",
    "    for j in range(0, 2):\n",
    "        for k in range(0, 3):\n",
    "            train.loc[ (train.Age.isnull()) & (train.Gender == i) & (train.Alone == j) & (train.Pclass == k+1),\\\n",
    "                'AgeFill'] = median_ages[i,j,k]"
   ]
  },
  {
   "cell_type": "markdown",
   "metadata": {},
   "source": [
    "## Feature engineering"
   ]
  },
  {
   "cell_type": "markdown",
   "metadata": {},
   "source": [
    "Function to search for strings"
   ]
  },
  {
   "cell_type": "code",
   "execution_count": 4,
   "metadata": {
    "collapsed": true
   },
   "outputs": [],
   "source": [
    "def substrings_in_string(big_string, substrings):\n",
    "    for substring in substrings:\n",
    "        if string.find(big_string, substring) != -1:\n",
    "            return substring\n",
    "    print big_string\n",
    "    return np.nan"
   ]
  },
  {
   "cell_type": "markdown",
   "metadata": {},
   "source": [
    "Deck from first letter of cabin"
   ]
  },
  {
   "cell_type": "code",
   "execution_count": 5,
   "metadata": {
    "collapsed": false
   },
   "outputs": [],
   "source": [
    "train.Cabin = train.Cabin.fillna('Unknown')  \n",
    "cabin_list = ['A', 'B', 'C', 'D', 'E', 'F', 'T', 'G', 'Unknown']\n",
    "train['Deck'] = train['Cabin'].map(lambda x: substrings_in_string(x, cabin_list))"
   ]
  },
  {
   "cell_type": "markdown",
   "metadata": {},
   "source": [
    "Extracting a person's title"
   ]
  },
  {
   "cell_type": "code",
   "execution_count": 6,
   "metadata": {
    "collapsed": false
   },
   "outputs": [],
   "source": [
    "title_list=['Mrs', 'Mr', 'Master', 'Miss', 'Major', 'Rev',\n",
    "                'Dr', 'Ms', 'Mlle','Col', 'Capt', 'Mme', 'Countess',\n",
    "                'Don', 'Jonkheer']\n",
    "\n",
    "train['Title']=train['Name'].map(lambda x: substrings_in_string(x, title_list))\n",
    "\n",
    "def replace_titles(x):\n",
    "    title = x['Title']\n",
    "    if title in ['Don', 'Major', 'Capt', 'Jonkheer', 'Rev', 'Col']:\n",
    "        return 'Mr'\n",
    "    elif title in ['Countess', 'Mme']:\n",
    "        return 'Mrs'\n",
    "    elif title in ['Mlle', 'Ms']:\n",
    "        return 'Miss'\n",
    "    elif title =='Dr':\n",
    "        if x['Sex']=='Male':\n",
    "            return 'Mr'\n",
    "        else:\n",
    "            return 'Mrs'\n",
    "    else:\n",
    "        return title\n",
    "\n",
    "train['Title']=train.apply(replace_titles, axis=1)\n"
   ]
  },
  {
   "cell_type": "markdown",
   "metadata": {},
   "source": [
    "Class crossed with age to see if younger more affluent passengers even more likely to be saved"
   ]
  },
  {
   "cell_type": "code",
   "execution_count": 7,
   "metadata": {
    "collapsed": false
   },
   "outputs": [],
   "source": [
    "train['Age_x_Class'] = train['AgeFill']*train['Pclass']"
   ]
  },
  {
   "cell_type": "markdown",
   "metadata": {},
   "source": [
    "Indicator if the age was unknown in case people more reckless or their families are"
   ]
  },
  {
   "cell_type": "code",
   "execution_count": 8,
   "metadata": {
    "collapsed": false
   },
   "outputs": [],
   "source": [
    "train['Age_un'] = 2\n",
    "\n",
    "def age_type(y):\n",
    "    orig_age = y['Age']\n",
    "    if pd.isnull(orig_age):\n",
    "        return 1\n",
    "    elif orig_age == 0.5:\n",
    "        return 0\n",
    "    elif (orig_age - maths.floor(orig_age))== 0.5:\n",
    "        return 1\n",
    "    else:\n",
    "        return 0\n",
    "\n",
    "train['Age_un']=train.apply(age_type, axis=1)\n"
   ]
  },
  {
   "cell_type": "markdown",
   "metadata": {
    "collapsed": true
   },
   "source": [
    "Converting to fares per person for families will fail for groups, but on test data this will also fail if the paseenger groups by ticket are split, whereas the sibsp and parch data crosses the divides"
   ]
  },
  {
   "cell_type": "code",
   "execution_count": 9,
   "metadata": {
    "collapsed": false
   },
   "outputs": [
    {
     "name": "stdout",
     "output_type": "stream",
     "text": [
      "<class 'pandas.core.frame.DataFrame'>\n",
      "Int64Index: 891 entries, 0 to 890\n",
      "Data columns (total 22 columns):\n",
      "PassengerId        891 non-null int64\n",
      "Survived           891 non-null int64\n",
      "Pclass             891 non-null int64\n",
      "Name               891 non-null object\n",
      "Sex                891 non-null object\n",
      "Age                714 non-null float64\n",
      "SibSp              891 non-null int64\n",
      "Parch              891 non-null int64\n",
      "Ticket             891 non-null object\n",
      "Fare               891 non-null float64\n",
      "Cabin              891 non-null object\n",
      "Embarked           889 non-null object\n",
      "Gender             891 non-null int32\n",
      "Port               891 non-null object\n",
      "Family_Size        891 non-null int64\n",
      "Alone              891 non-null int64\n",
      "AgeFill            891 non-null float64\n",
      "Deck               891 non-null object\n",
      "Title              891 non-null object\n",
      "Age_x_Class        891 non-null float64\n",
      "Age_un             891 non-null int64\n",
      "Fare_Per_Person    891 non-null float64\n",
      "dtypes: float64(5), int32(1), int64(8), object(8)\n",
      "memory usage: 156.6+ KB\n"
     ]
    }
   ],
   "source": [
    "train['Fare_Per_Person']=train['Fare']/(train['Family_Size'])\n",
    "train.info()"
   ]
  },
  {
   "cell_type": "markdown",
   "metadata": {},
   "source": [
    "## Final Data clean"
   ]
  },
  {
   "cell_type": "code",
   "execution_count": 10,
   "metadata": {
    "collapsed": false
   },
   "outputs": [],
   "source": [
    "train = train.drop(['PassengerId','Name','Sex','Age','SibSp','Parch','Ticket','Fare','Cabin','Embarked','Alone'], 1)"
   ]
  },
  {
   "cell_type": "code",
   "execution_count": 11,
   "metadata": {
    "collapsed": false
   },
   "outputs": [
    {
     "name": "stdout",
     "output_type": "stream",
     "text": [
      "<class 'pandas.core.frame.DataFrame'>\n",
      "Int64Index: 891 entries, 0 to 890\n",
      "Data columns (total 8 columns):\n",
      "Survived           891 non-null int64\n",
      "Gender             891 non-null int32\n",
      "AgeFill            891 non-null float64\n",
      "Pclass             891 non-null int64\n",
      "Family_Size        891 non-null int64\n",
      "Fare_Per_Person    891 non-null float64\n",
      "Address            891 non-null float64\n",
      "OnDeck             891 non-null float64\n",
      "dtypes: float64(4), int32(1), int64(3)\n",
      "memory usage: 59.2 KB\n"
     ]
    }
   ],
   "source": [
    "train['Emb'] = train['Port'].map( {'S': 0, 'C': 1, 'Q': 2, 'Unknown': 3} ).astype(float)\n",
    "train['OnDeck'] = train['Deck'].map( {'A': 0, 'B': 1, 'C': 2, 'D': 3, 'E': 4, \\\n",
    "                                      'F': 5, 'T': 6, 'G': 7, 'Unknown': 8} ).astype(float)\n",
    "train['Address'] = train['Title'].map( {'Mr': 0, 'Master': 1, 'Mrs': 2, 'Miss': 3} ).astype(float)\n",
    "train = train.drop(['Port','Deck','Title'], 1)\n",
    "train = train[['Survived','Gender','AgeFill','Pclass','Age_x_Class',\\\n",
    "               'Family_Size','Fare_Per_Person','Address','OnDeck','Age_un','Emb']]\n",
    "train = train.drop(['Age_x_Class','Age_un','Emb'], 1)\n",
    "train.info()\n"
   ]
  },
  {
   "cell_type": "code",
   "execution_count": 12,
   "metadata": {
    "collapsed": false
   },
   "outputs": [],
   "source": [
    "train_data = train.values"
   ]
  },
  {
   "cell_type": "markdown",
   "metadata": {},
   "source": [
    "## Creating test file"
   ]
  },
  {
   "cell_type": "markdown",
   "metadata": {},
   "source": [
    "In hindsight, should have written this as a function to easily repeat"
   ]
  },
  {
   "cell_type": "code",
   "execution_count": 13,
   "metadata": {
    "collapsed": false,
    "scrolled": true
   },
   "outputs": [
    {
     "name": "stdout",
     "output_type": "stream",
     "text": [
      "<class 'pandas.core.frame.DataFrame'>\n",
      "Int64Index: 418 entries, 0 to 417\n",
      "Data columns (total 11 columns):\n",
      "PassengerId    418 non-null int64\n",
      "Pclass         418 non-null int64\n",
      "Name           418 non-null object\n",
      "Sex            418 non-null object\n",
      "Age            332 non-null float64\n",
      "SibSp          418 non-null int64\n",
      "Parch          418 non-null int64\n",
      "Ticket         418 non-null object\n",
      "Fare           417 non-null float64\n",
      "Cabin          91 non-null object\n",
      "Embarked       418 non-null object\n",
      "dtypes: float64(2), int64(4), object(5)\n",
      "memory usage: 39.2+ KB\n",
      "[ 31.67915  13.        7.75   ]\n",
      "<class 'pandas.core.frame.DataFrame'>\n",
      "Int64Index: 418 entries, 0 to 417\n",
      "Data columns (total 7 columns):\n",
      "Gender             418 non-null int32\n",
      "AgeFill            418 non-null float64\n",
      "Pclass             418 non-null int64\n",
      "Family_Size        418 non-null int64\n",
      "Fare_Per_Person    418 non-null float64\n",
      "Address            418 non-null float64\n",
      "OnDeck             418 non-null float64\n",
      "dtypes: float64(4), int32(1), int64(2)\n",
      "memory usage: 24.5 KB\n"
     ]
    },
    {
     "data": {
      "text/html": [
       "<div>\n",
       "<table border=\"1\" class=\"dataframe\">\n",
       "  <thead>\n",
       "    <tr style=\"text-align: right;\">\n",
       "      <th></th>\n",
       "      <th>Gender</th>\n",
       "      <th>AgeFill</th>\n",
       "      <th>Pclass</th>\n",
       "      <th>Family_Size</th>\n",
       "      <th>Fare_Per_Person</th>\n",
       "      <th>Address</th>\n",
       "      <th>OnDeck</th>\n",
       "    </tr>\n",
       "  </thead>\n",
       "  <tbody>\n",
       "    <tr>\n",
       "      <th>0</th>\n",
       "      <td>1</td>\n",
       "      <td>34.5</td>\n",
       "      <td>3</td>\n",
       "      <td>1</td>\n",
       "      <td>7.829200</td>\n",
       "      <td>0</td>\n",
       "      <td>8</td>\n",
       "    </tr>\n",
       "    <tr>\n",
       "      <th>1</th>\n",
       "      <td>0</td>\n",
       "      <td>47.0</td>\n",
       "      <td>3</td>\n",
       "      <td>2</td>\n",
       "      <td>3.500000</td>\n",
       "      <td>2</td>\n",
       "      <td>8</td>\n",
       "    </tr>\n",
       "    <tr>\n",
       "      <th>2</th>\n",
       "      <td>1</td>\n",
       "      <td>62.0</td>\n",
       "      <td>2</td>\n",
       "      <td>1</td>\n",
       "      <td>9.687500</td>\n",
       "      <td>0</td>\n",
       "      <td>8</td>\n",
       "    </tr>\n",
       "    <tr>\n",
       "      <th>3</th>\n",
       "      <td>1</td>\n",
       "      <td>27.0</td>\n",
       "      <td>3</td>\n",
       "      <td>1</td>\n",
       "      <td>8.662500</td>\n",
       "      <td>0</td>\n",
       "      <td>8</td>\n",
       "    </tr>\n",
       "    <tr>\n",
       "      <th>4</th>\n",
       "      <td>0</td>\n",
       "      <td>22.0</td>\n",
       "      <td>3</td>\n",
       "      <td>3</td>\n",
       "      <td>4.095833</td>\n",
       "      <td>2</td>\n",
       "      <td>8</td>\n",
       "    </tr>\n",
       "  </tbody>\n",
       "</table>\n",
       "</div>"
      ],
      "text/plain": [
       "   Gender  AgeFill  Pclass  Family_Size  Fare_Per_Person  Address  OnDeck\n",
       "0       1     34.5       3            1         7.829200        0       8\n",
       "1       0     47.0       3            2         3.500000        2       8\n",
       "2       1     62.0       2            1         9.687500        0       8\n",
       "3       1     27.0       3            1         8.662500        0       8\n",
       "4       0     22.0       3            3         4.095833        2       8"
      ]
     },
     "execution_count": 13,
     "metadata": {},
     "output_type": "execute_result"
    }
   ],
   "source": [
    "test = pd.read_csv(\"C:/Users/Keith/Documents/Kaggle/Titanic/test.csv\", header=0)\n",
    "test.info()\n",
    "\n",
    "# Collect the test data's PassengerIds before dropping it later\n",
    "ids = test['PassengerId'].values\n",
    "\n",
    "test['Port'] = test['Embarked']\n",
    "test['Port'] = test['Port'].fillna('Unknown')\n",
    "test['Family_Size'] = test['SibSp']+test['Parch']+1\n",
    "test['Alone'] = test['Family_Size'].map(lambda x: 0 if x>1 else 1)\n",
    "test['Gender'] = test['Sex'].map( {'female': 0, 'male': 1} ).astype(int)\n",
    "\n",
    "test['AgeFill'] = test['Age']\n",
    "\n",
    "for i in range(0, 2):\n",
    "    for j in range(0, 2):\n",
    "        for k in range(0, 3):\n",
    "            test.loc[ (test.Age.isnull()) & (test.Gender == i) & (test.Alone == j) & (test.Pclass == k+1),\\\n",
    "                'AgeFill'] = median_ages[i,j,k]\n",
    "\n",
    "test.Cabin = test.Cabin.fillna('Unknown')  \n",
    "cabin_list = ['A', 'B', 'C', 'D', 'E', 'F', 'T', 'G', 'Unknown']\n",
    "test['Deck'] = test['Cabin'].map(lambda x: substrings_in_string(x, cabin_list))\n",
    "\n",
    "test['Title']=test['Name'].map(lambda x: substrings_in_string(x, title_list))\n",
    "test['Title']=test.apply(replace_titles, axis=1)\n",
    "\n",
    "test['Age_x_Class'] = test['AgeFill']*test['Pclass']\n",
    "\n",
    "test['Age_un'] = 2\n",
    "test['Age_un']=test.apply(age_type, axis=1)\n",
    "\n",
    "test['Fare_Per_Person2']=test['Fare']/(test['Family_Size'])\n",
    "\n",
    "test = test.drop(['PassengerId','Name','Sex','Age','SibSp','Parch','Ticket','Fare','Cabin','Embarked','Alone'], 1)\n",
    "\n",
    "test['Emb'] = test['Port'].map( {'S': 0, 'C': 1, 'Q': 2, 'Unknown': 3} ).astype(float)\n",
    "test['OnDeck'] = test['Deck'].map( {'A': 0, 'B': 1, 'C': 2, 'D': 3, 'E': 4, \\\n",
    "                                      'F': 5, 'T': 6, 'G': 7, 'Unknown': 8} ).astype(float)\n",
    "test['Address'] = test['Title'].map( {'Mr': 0, 'Master': 1, 'Mrs': 2, 'Miss': 3} ).astype(float)\n",
    "\n",
    "#Test has empty fare information\n",
    "median_fare = np.zeros((3))\n",
    "\n",
    "for i in range(0, 3):\n",
    "    median_fare[i] = test[(test['Pclass'] == i+1)]['Fare_Per_Person2'].dropna().median()\n",
    "\n",
    "print(median_fare)\n",
    "#Creating a filled in column of actual and estimated fares\n",
    "test['Fare_Per_Person'] = test['Fare_Per_Person2']\n",
    "\n",
    "for i in range(0, 3):\n",
    "            test.loc[ (test.Fare_Per_Person2.isnull()) & (train.Pclass == i+1),\\\n",
    "                'Fare_Per_Person'] = median_fare[i]\n",
    "\n",
    "test = test.drop(['Port','Deck','Title','Fare_Per_Person2'], 1)\n",
    "test = test[['Gender','AgeFill','Pclass','Age_x_Class',\\\n",
    "               'Family_Size','Fare_Per_Person','Address','OnDeck','Age_un','Emb']]\n",
    "test = test.drop(['Age_x_Class','Age_un','Emb'], 1)\n",
    "test.info()\n",
    "test.head(5)"
   ]
  },
  {
   "cell_type": "code",
   "execution_count": 14,
   "metadata": {
    "collapsed": true
   },
   "outputs": [],
   "source": [
    "test_data = test.values"
   ]
  },
  {
   "cell_type": "markdown",
   "metadata": {},
   "source": [
    "## Machine learning"
   ]
  },
  {
   "cell_type": "markdown",
   "metadata": {},
   "source": [
    "A bit more thought behind the forrest, from adjustments above"
   ]
  },
  {
   "cell_type": "code",
   "execution_count": 15,
   "metadata": {
    "collapsed": false
   },
   "outputs": [],
   "source": [
    "forest = RandomForestClassifier(n_estimators=100)\n",
    "forest = forest.fit( train_data[0::,1::], train_data[0::,0] )\n",
    "\n",
    "output = forest.predict(test_data).astype(int)\n",
    "\n",
    "\n",
    "predictions_file = open(\"C:/Users/Keith/Documents/Kaggle/Titanic/random_forrest2.csv\", \"wb\")\n",
    "open_file_object = csv.writer(predictions_file)\n",
    "open_file_object.writerow([\"PassengerId\",\"Survived\"])\n",
    "open_file_object.writerows(zip(ids, output))\n",
    "predictions_file.close()\n"
   ]
  }
 ],
 "metadata": {
  "kernelspec": {
   "display_name": "Python 2",
   "language": "python",
   "name": "python2"
  },
  "language_info": {
   "codemirror_mode": {
    "name": "ipython",
    "version": 2
   },
   "file_extension": ".py",
   "mimetype": "text/x-python",
   "name": "python",
   "nbconvert_exporter": "python",
   "pygments_lexer": "ipython2",
   "version": "2.7.11"
  }
 },
 "nbformat": 4,
 "nbformat_minor": 0
}
